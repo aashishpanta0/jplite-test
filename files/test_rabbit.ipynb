{
  "metadata": {
    "kernelspec": {
      "display_name": "Python (Pyodide)",
      "language": "python",
      "name": "python"
    },
    "language_info": {
      "codemirror_mode": {
        "name": "python",
        "version": 3
      },
      "file_extension": ".py",
      "mimetype": "text/x-python",
      "name": "python",
      "nbconvert_exporter": "python",
      "pygments_lexer": "ipython3",
      "version": "3.8"
    }
  },
  "nbformat_minor": 4,
  "nbformat": 4,
  "cells": [
    {
      "cell_type": "markdown",
      "source": "# Configure JupyterLite",
      "metadata": {}
    },
    {
      "cell_type": "code",
      "source": "import shutil, os, micropip,logging,time\n\n# I have no ide why I have to do this, there is some confusion between bokeh version\n_fix=[shutil.rmtree(f\"/lib/python3.10/site-packages/{it}\", ignore_errors=True) for it in os.listdir(\"/lib/python3.10/site-packages\") if it.startswith(\"bokeh\")]\nawait micropip.install(\"https://cdn.holoviz.org/panel/0.14.3/dist/wheels/bokeh-2.4.3-py3-none-any.whl\")\nawait micropip.install(\"bokeh==2.4.3\")\nawait micropip.install([\n    \"pyviz_comms\",\n    \"numpy\", \n    \"pandas\", \n    \"requests\", \n    \"xmltodict\",\n    \"xyzservices\", \n    \"pyodide-http\", \n    \"colorcet\",\n    \"https://cdn.holoviz.org/panel/0.14.3/dist/wheels/bokeh-2.4.3-py3-none-any.whl\", \n    \"panel==0.14.2\", \n    \"openvisuspy==0.0.20\",])",
      "metadata": {
        "trusted": true
      },
      "execution_count": null,
      "outputs": []
    },
    {
      "cell_type": "markdown",
      "source": "# Test if Panel is working",
      "metadata": {}
    },
    {
      "cell_type": "code",
      "source": "import bokeh\nprint(bokeh.__version__)\nimport panel as pn;print(pn.__version__)\npn.extension('vega')\n\nbutton = bokeh.models.widgets.Button(label=\"Panel is working? Push...\", sizing_mode='stretch_width')\ndef OnClick(evt=None): button.label=\"YES!\"\nbutton.on_click(OnClick)    \npn.pane.Bokeh(button) # NOTE: bokeh will not work (complaining about tornado)",
      "metadata": {
        "trusted": true
      },
      "execution_count": null,
      "outputs": []
    },
    {
      "cell_type": "markdown",
      "source": "# David (2D-uint8[3])",
      "metadata": {}
    },
    {
      "cell_type": "code",
      "source": "import openvisuspy\nfrom openvisuspy import Slice, Slices, GetBackend, SetupLogger\nlogger=SetupLogger()\nlogger.info(f\"GetBackend={GetBackend()}\")",
      "metadata": {},
      "execution_count": null,
      "outputs": []
    },
    {
      "cell_type": "code",
      "source": "view=Slice() \nview.setDataset(\"https://atlantis.sci.utah.edu/mod_visus?dataset=david_subsampled&cached=1\" )   \nview.setPalette(\"Greys256\")\nview.setPaletteRange([0,255])\nview.getPanelLayout()",
      "metadata": {
        "trusted": true
      },
      "execution_count": null,
      "outputs": []
    },
    {
      "cell_type": "markdown",
      "source": "# 2kbit1",
      "metadata": {}
    },
    {
      "cell_type": "code",
      "source": "view=Slice() \nview.setDataset(\"https://atlantis.sci.utah.edu/mod_visus?dataset=2kbit1&cached=1\") \nview.setPalette(\"Greys256\")\nview.setPaletteRange((0,255))\nview.getPanelLayout()",
      "metadata": {},
      "execution_count": null,
      "outputs": []
    },
    {
      "cell_type": "markdown",
      "source": "# Rabbit ",
      "metadata": {}
    },
    {
      "cell_type": "code",
      "source": "view=Slice()\nview.setDataset('https://atlantis.sci.utah.edu/mod_visus?dataset=rabbit&cached=1')   \nview.setPalette(\"Greys256\")\nview.setPaletteRange((0,255))\nview.getPanelLayout()",
      "metadata": {},
      "execution_count": null,
      "outputs": []
    },
    {
      "cell_type": "markdown",
      "source": "# Chess",
      "metadata": {}
    },
    {
      "cell_type": "code",
      "source": "view=Slice() \nview.setDataset('https://atlantis.sci.utah.edu/mod_visus?dataset=chess-zip&cached=1')   \nview.setPalette(\"Viridis256\")\nview.setPaletteRange([-0.017141795,0.012004322])\nview.getPanelLayout()",
      "metadata": {},
      "execution_count": null,
      "outputs": []
    }
  ]
}