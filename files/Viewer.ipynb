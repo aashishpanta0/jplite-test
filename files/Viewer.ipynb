{
 "cells": [
  {
   "attachments": {},
   "cell_type": "markdown",
   "metadata": {},
   "source": [
    "# Configure JupyterLite"
   ]
  },
  {
   "cell_type": "code",
   "execution_count": 1,
   "metadata": {},
   "outputs": [
    {
     "ename": "ModuleNotFoundError",
     "evalue": "No module named 'micropip'",
     "output_type": "error",
     "traceback": [
      "\u001b[0;31m---------------------------------------------------------------------------\u001b[0m",
      "\u001b[0;31mModuleNotFoundError\u001b[0m                       Traceback (most recent call last)",
      "Cell \u001b[0;32mIn[1], line 1\u001b[0m\n\u001b[0;32m----> 1\u001b[0m \u001b[39mimport\u001b[39;00m \u001b[39mshutil\u001b[39;00m\u001b[39m,\u001b[39m \u001b[39mos\u001b[39;00m\u001b[39m,\u001b[39m \u001b[39mmicropip\u001b[39;00m\u001b[39m,\u001b[39m\u001b[39mlogging\u001b[39;00m\u001b[39m,\u001b[39m\u001b[39mtime\u001b[39;00m\n\u001b[1;32m      3\u001b[0m \u001b[39mawait\u001b[39;00m micropip\u001b[39m.\u001b[39minstall(\u001b[39m\"\u001b[39m\u001b[39mhttps://cdn.holoviz.org/panel/0.14.3/dist/wheels/bokeh-2.4.3-py3-none-any.whl\u001b[39m\u001b[39m\"\u001b[39m)\n\u001b[1;32m      4\u001b[0m \u001b[39mawait\u001b[39;00m micropip\u001b[39m.\u001b[39minstall(\u001b[39m\"\u001b[39m\u001b[39mbokeh==2.4.3\u001b[39m\u001b[39m\"\u001b[39m)\n",
      "\u001b[0;31mModuleNotFoundError\u001b[0m: No module named 'micropip'"
     ]
    }
   ],
   "source": [
    "import shutil, os, micropip,logging,time\n",
    "from js import URLSearchParams, window\n",
    "\n",
    "await micropip.install(\"https://cdn.holoviz.org/panel/0.14.3/dist/wheels/bokeh-2.4.3-py3-none-any.whl\")\n",
    "await micropip.install(\"bokeh==2.4.3\")\n",
    "await micropip.install([\n",
    "    \"pyviz_comms\",\n",
    "    \"numpy\", \n",
    "    \"pandas\", \n",
    "    \"requests\", \n",
    "    \"xmltodict\",\n",
    "    \"xyzservices\", \n",
    "    \"pyodide-http\", \n",
    "    \"colorcet\",\n",
    "    \"https://cdn.holoviz.org/panel/0.14.3/dist/wheels/bokeh-2.4.3-py3-none-any.whl\", \n",
    "    \"panel==0.14.2\", \n",
    "    \"openvisuspy==0.0.20\",])"
   ]
  },
  {
   "attachments": {},
   "cell_type": "markdown",
   "metadata": {},
   "source": [
    "# Data Viewer"
   ]
  },
  {
   "cell_type": "code",
   "execution_count": null,
   "metadata": {},
   "outputs": [],
   "source": [
    "import openvisuspy\n",
    "from openvisuspy import Slice, Slices, GetBackend, SetupLogger\n",
    "logger=SetupLogger()\n",
    "logger.info(f\"GetBackend={GetBackend()}\")"
   ]
  },
  {
   "cell_type": "code",
   "execution_count": null,
   "metadata": {},
   "outputs": [],
   "source": [
    "params = URLSearchParams.new(window.location.search)\n",
    "uuid = params.get('uuid')"
   ]
  },
  {
   "cell_type": "code",
   "execution_count": null,
   "metadata": {},
   "outputs": [],
   "source": [
    "view=Slice() \n",
    "# uuid=\"14229439-6ef5-4cac-8ea1-275c2ef6099c\"\n",
    "url=f\"http://51.81.155.171/mod_visus?dataset={uuid}\"\n",
    "view.setDataset(url)   \n",
    "view.setPalette(\"Greys256\")\n",
    "view.setPaletteRange([0,255])\n",
    "view.getPanelLayout()"
   ]
  }
 ],
 "metadata": {
  "kernelspec": {
   "display_name": "Python 3 (ipykernel)",
   "language": "python",
   "name": "python3"
  },
  "language_info": {
   "codemirror_mode": {
    "name": "ipython",
    "version": 3
   },
   "file_extension": ".py",
   "mimetype": "text/x-python",
   "name": "python",
   "nbconvert_exporter": "python",
   "pygments_lexer": "ipython3",
   "version": "3.10.6"
  }
 },
 "nbformat": 4,
 "nbformat_minor": 4
}
